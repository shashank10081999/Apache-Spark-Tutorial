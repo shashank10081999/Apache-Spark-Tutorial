{
 "cells": [
  {
   "cell_type": "code",
   "execution_count": 6,
   "metadata": {},
   "outputs": [],
   "source": [
    "from pyspark.sql import SparkSession\n",
    "spark = SparkSession.builder.appName(\"n-grams\").getOrCreate()\n",
    "df = spark.createDataFrame([\n",
    "    (0,[\"Hi\", \"this\", \"is\", \"Garimella\", \"Shanmukha\", \"Sai\", \"Shashank\"]),\n",
    "    (1,[\"I\", \"have\", \"joined\" ,\"tiger\", \"3\" ,\"months\", \"back\"])] , [\"id\" , \"Sentences\"])"
   ]
  },
  {
   "cell_type": "code",
   "execution_count": 7,
   "metadata": {},
   "outputs": [
    {
     "name": "stdout",
     "output_type": "stream",
     "text": [
      "+---+--------------------+\n",
      "| id|           Sentences|\n",
      "+---+--------------------+\n",
      "|  0|[Hi, this, is, Ga...|\n",
      "|  1|[I, have, joined,...|\n",
      "+---+--------------------+\n",
      "\n"
     ]
    }
   ],
   "source": [
    "df.show()"
   ]
  },
  {
   "cell_type": "code",
   "execution_count": 11,
   "metadata": {},
   "outputs": [
    {
     "name": "stdout",
     "output_type": "stream",
     "text": [
      "+-----------------------------------------------------------------------------------------------------------------+\n",
      "|grams                                                                                                            |\n",
      "+-----------------------------------------------------------------------------------------------------------------+\n",
      "|[Hi this is Garimella, this is Garimella Shanmukha, is Garimella Shanmukha Sai, Garimella Shanmukha Sai Shashank]|\n",
      "|[I have joined tiger, have joined tiger 3, joined tiger 3 months, tiger 3 months back]                           |\n",
      "+-----------------------------------------------------------------------------------------------------------------+\n",
      "\n"
     ]
    }
   ],
   "source": [
    "from pyspark.ml.feature import NGram\n",
    "ngram = NGram(n=4,inputCol=\"Sentences\",outputCol=\"grams\")\n",
    "ngram.transform(df).select(\"grams\").show(truncate=False)"
   ]
  },
  {
   "cell_type": "code",
   "execution_count": null,
   "metadata": {},
   "outputs": [],
   "source": []
  }
 ],
 "metadata": {
  "kernelspec": {
   "display_name": "Python 3.8.10 64-bit",
   "language": "python",
   "name": "python3"
  },
  "language_info": {
   "codemirror_mode": {
    "name": "ipython",
    "version": 3
   },
   "file_extension": ".py",
   "mimetype": "text/x-python",
   "name": "python",
   "nbconvert_exporter": "python",
   "pygments_lexer": "ipython3",
   "version": "3.8.10"
  },
  "orig_nbformat": 4,
  "vscode": {
   "interpreter": {
    "hash": "31f2aee4e71d21fbe5cf8b01ff0e069b9275f58929596ceb00d14d90e3e16cd6"
   }
  }
 },
 "nbformat": 4,
 "nbformat_minor": 2
}
